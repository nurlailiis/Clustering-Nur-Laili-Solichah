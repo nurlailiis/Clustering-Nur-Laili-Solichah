{
 "cells": [
  {
   "cell_type": "markdown",
   "metadata": {},
   "source": [
    "# OVERVIEW"
   ]
  },
  {
   "cell_type": "markdown",
   "metadata": {},
   "source": [
    "## Description\n",
    "url = Link to listing\n",
    "city = Craigslist region in which this listing was posted\n",
    "city_url = Link to region page\n",
    "price = Price of vehicle\n",
    "year = Year of vehicle\n",
    "manufacturer = Manufacturer of vehicle\n",
    "make = Make of vehicle\n",
    "condition = Condition of vehicle\n",
    "cylinders = Number of cylinders of vehicle\n",
    "fuelFuel = taken by vehicle\n",
    "odometer = Miles vehicle has been driven\n",
    "title_status = Title status of vehicle (e.g. clean - this vehicle has all legal documents. missing - these documents are missing)\n",
    "transmission = Transmission of vehicle\n",
    "VIN = Vehicle Identification Number\n",
    "drive = Drive of vehicle\n",
    "size = Size of vehicle\n",
    "type = Vehicle type\n",
    "paint_color = Color of vehicle\n",
    "image_url = Link to image of vehicle\n",
    "desc = Listing description provided by owner\n",
    "lat = Latitude of vehicle (not precise but very close)\n",
    "long = Longitude of vehicle (not precise but very close)"
   ]
  },
  {
   "cell_type": "code",
   "execution_count": 1,
   "metadata": {},
   "outputs": [],
   "source": [
    "import pandas as pd\n",
    "import matplotlib.pyplot as plt\n",
    "import seaborn as sns\n",
    "import numpy as np\n",
    "#import LabelEncoder\n",
    "from sklearn.preprocessing import LabelEncoder\n",
    "#import KMeans\n",
    "from sklearn.cluster import KMeans\n",
    "from sklearn.cluster import AgglomerativeClustering\n",
    "import scipy.cluster.hierarchy as sch\n",
    "from sklearn.cluster import DBSCAN"
   ]
  },
  {
   "cell_type": "code",
   "execution_count": 2,
   "metadata": {},
   "outputs": [
    {
     "data": {
      "text/html": [
       "<div>\n",
       "<style scoped>\n",
       "    .dataframe tbody tr th:only-of-type {\n",
       "        vertical-align: middle;\n",
       "    }\n",
       "\n",
       "    .dataframe tbody tr th {\n",
       "        vertical-align: top;\n",
       "    }\n",
       "\n",
       "    .dataframe thead th {\n",
       "        text-align: right;\n",
       "    }\n",
       "</style>\n",
       "<table border=\"1\" class=\"dataframe\">\n",
       "  <thead>\n",
       "    <tr style=\"text-align: right;\">\n",
       "      <th></th>\n",
       "      <th>Unnamed: 0</th>\n",
       "      <th>ID</th>\n",
       "      <th>make</th>\n",
       "      <th>fuel-type</th>\n",
       "      <th>aspiration</th>\n",
       "      <th>num-of-doors</th>\n",
       "      <th>body-style</th>\n",
       "      <th>drive-wheel</th>\n",
       "      <th>engine-loc</th>\n",
       "      <th>wheel-base</th>\n",
       "      <th>...</th>\n",
       "      <th>bore</th>\n",
       "      <th>stroke</th>\n",
       "      <th>compression-ratio</th>\n",
       "      <th>horsepower</th>\n",
       "      <th>peak-rpm</th>\n",
       "      <th>city-mpg</th>\n",
       "      <th>highway-mpg</th>\n",
       "      <th>price</th>\n",
       "      <th>normalized-losses</th>\n",
       "      <th>symboling</th>\n",
       "    </tr>\n",
       "  </thead>\n",
       "  <tbody>\n",
       "    <tr>\n",
       "      <td>0</td>\n",
       "      <td>0</td>\n",
       "      <td>1</td>\n",
       "      <td>alfa-romero</td>\n",
       "      <td>gas</td>\n",
       "      <td>std</td>\n",
       "      <td>two</td>\n",
       "      <td>convertible</td>\n",
       "      <td>rwd</td>\n",
       "      <td>front</td>\n",
       "      <td>88.6</td>\n",
       "      <td>...</td>\n",
       "      <td>3.47</td>\n",
       "      <td>2.68</td>\n",
       "      <td>9.0</td>\n",
       "      <td>111.0</td>\n",
       "      <td>5000.0</td>\n",
       "      <td>21</td>\n",
       "      <td>27</td>\n",
       "      <td>13495.0</td>\n",
       "      <td>122.0</td>\n",
       "      <td>3</td>\n",
       "    </tr>\n",
       "    <tr>\n",
       "      <td>1</td>\n",
       "      <td>1</td>\n",
       "      <td>2</td>\n",
       "      <td>alfa-romero</td>\n",
       "      <td>gas</td>\n",
       "      <td>std</td>\n",
       "      <td>two</td>\n",
       "      <td>convertible</td>\n",
       "      <td>rwd</td>\n",
       "      <td>front</td>\n",
       "      <td>88.6</td>\n",
       "      <td>...</td>\n",
       "      <td>3.47</td>\n",
       "      <td>2.68</td>\n",
       "      <td>9.0</td>\n",
       "      <td>111.0</td>\n",
       "      <td>5000.0</td>\n",
       "      <td>21</td>\n",
       "      <td>27</td>\n",
       "      <td>16500.0</td>\n",
       "      <td>122.0</td>\n",
       "      <td>3</td>\n",
       "    </tr>\n",
       "    <tr>\n",
       "      <td>2</td>\n",
       "      <td>2</td>\n",
       "      <td>3</td>\n",
       "      <td>alfa-romero</td>\n",
       "      <td>gas</td>\n",
       "      <td>std</td>\n",
       "      <td>two</td>\n",
       "      <td>hatchback</td>\n",
       "      <td>rwd</td>\n",
       "      <td>front</td>\n",
       "      <td>94.5</td>\n",
       "      <td>...</td>\n",
       "      <td>2.68</td>\n",
       "      <td>3.47</td>\n",
       "      <td>9.0</td>\n",
       "      <td>154.0</td>\n",
       "      <td>5000.0</td>\n",
       "      <td>19</td>\n",
       "      <td>26</td>\n",
       "      <td>16500.0</td>\n",
       "      <td>122.0</td>\n",
       "      <td>1</td>\n",
       "    </tr>\n",
       "    <tr>\n",
       "      <td>3</td>\n",
       "      <td>3</td>\n",
       "      <td>4</td>\n",
       "      <td>audi</td>\n",
       "      <td>gas</td>\n",
       "      <td>std</td>\n",
       "      <td>four</td>\n",
       "      <td>sedan</td>\n",
       "      <td>fwd</td>\n",
       "      <td>front</td>\n",
       "      <td>99.8</td>\n",
       "      <td>...</td>\n",
       "      <td>3.19</td>\n",
       "      <td>3.40</td>\n",
       "      <td>10.0</td>\n",
       "      <td>102.0</td>\n",
       "      <td>5500.0</td>\n",
       "      <td>24</td>\n",
       "      <td>30</td>\n",
       "      <td>13950.0</td>\n",
       "      <td>164.0</td>\n",
       "      <td>2</td>\n",
       "    </tr>\n",
       "    <tr>\n",
       "      <td>4</td>\n",
       "      <td>4</td>\n",
       "      <td>5</td>\n",
       "      <td>audi</td>\n",
       "      <td>gas</td>\n",
       "      <td>std</td>\n",
       "      <td>four</td>\n",
       "      <td>sedan</td>\n",
       "      <td>4wd</td>\n",
       "      <td>front</td>\n",
       "      <td>99.4</td>\n",
       "      <td>...</td>\n",
       "      <td>3.19</td>\n",
       "      <td>3.40</td>\n",
       "      <td>8.0</td>\n",
       "      <td>115.0</td>\n",
       "      <td>5500.0</td>\n",
       "      <td>18</td>\n",
       "      <td>22</td>\n",
       "      <td>17450.0</td>\n",
       "      <td>164.0</td>\n",
       "      <td>2</td>\n",
       "    </tr>\n",
       "  </tbody>\n",
       "</table>\n",
       "<p>5 rows × 28 columns</p>\n",
       "</div>"
      ],
      "text/plain": [
       "   Unnamed: 0  ID         make fuel-type aspiration num-of-doors   body-style  \\\n",
       "0           0   1  alfa-romero       gas        std          two  convertible   \n",
       "1           1   2  alfa-romero       gas        std          two  convertible   \n",
       "2           2   3  alfa-romero       gas        std          two    hatchback   \n",
       "3           3   4         audi       gas        std         four        sedan   \n",
       "4           4   5         audi       gas        std         four        sedan   \n",
       "\n",
       "  drive-wheel engine-loc  wheel-base  ...  bore  stroke  compression-ratio  \\\n",
       "0         rwd      front        88.6  ...  3.47    2.68                9.0   \n",
       "1         rwd      front        88.6  ...  3.47    2.68                9.0   \n",
       "2         rwd      front        94.5  ...  2.68    3.47                9.0   \n",
       "3         fwd      front        99.8  ...  3.19    3.40               10.0   \n",
       "4         4wd      front        99.4  ...  3.19    3.40                8.0   \n",
       "\n",
       "   horsepower peak-rpm city-mpg  highway-mpg    price  normalized-losses  \\\n",
       "0       111.0   5000.0       21           27  13495.0              122.0   \n",
       "1       111.0   5000.0       21           27  16500.0              122.0   \n",
       "2       154.0   5000.0       19           26  16500.0              122.0   \n",
       "3       102.0   5500.0       24           30  13950.0              164.0   \n",
       "4       115.0   5500.0       18           22  17450.0              164.0   \n",
       "\n",
       "   symboling  \n",
       "0          3  \n",
       "1          3  \n",
       "2          1  \n",
       "3          2  \n",
       "4          2  \n",
       "\n",
       "[5 rows x 28 columns]"
      ]
     },
     "execution_count": 2,
     "metadata": {},
     "output_type": "execute_result"
    }
   ],
   "source": [
    "dfautomobile = pd.read_csv('dfautomobile.csv')\n",
    "dfautomobile.head()"
   ]
  },
  {
   "cell_type": "code",
   "execution_count": 3,
   "metadata": {},
   "outputs": [
    {
     "data": {
      "text/html": [
       "<div>\n",
       "<style scoped>\n",
       "    .dataframe tbody tr th:only-of-type {\n",
       "        vertical-align: middle;\n",
       "    }\n",
       "\n",
       "    .dataframe tbody tr th {\n",
       "        vertical-align: top;\n",
       "    }\n",
       "\n",
       "    .dataframe thead th {\n",
       "        text-align: right;\n",
       "    }\n",
       "</style>\n",
       "<table border=\"1\" class=\"dataframe\">\n",
       "  <thead>\n",
       "    <tr style=\"text-align: right;\">\n",
       "      <th></th>\n",
       "      <th>make</th>\n",
       "      <th>fuel-type</th>\n",
       "      <th>aspiration</th>\n",
       "      <th>num-of-doors</th>\n",
       "      <th>body-style</th>\n",
       "      <th>drive-wheel</th>\n",
       "      <th>engine-loc</th>\n",
       "      <th>wheel-base</th>\n",
       "      <th>length</th>\n",
       "      <th>width</th>\n",
       "      <th>...</th>\n",
       "      <th>bore</th>\n",
       "      <th>stroke</th>\n",
       "      <th>compression-ratio</th>\n",
       "      <th>horsepower</th>\n",
       "      <th>peak-rpm</th>\n",
       "      <th>city-mpg</th>\n",
       "      <th>highway-mpg</th>\n",
       "      <th>price</th>\n",
       "      <th>normalized-losses</th>\n",
       "      <th>symboling</th>\n",
       "    </tr>\n",
       "  </thead>\n",
       "  <tbody>\n",
       "    <tr>\n",
       "      <td>0</td>\n",
       "      <td>alfa-romero</td>\n",
       "      <td>gas</td>\n",
       "      <td>std</td>\n",
       "      <td>two</td>\n",
       "      <td>convertible</td>\n",
       "      <td>rwd</td>\n",
       "      <td>front</td>\n",
       "      <td>88.6</td>\n",
       "      <td>168.8</td>\n",
       "      <td>64.1</td>\n",
       "      <td>...</td>\n",
       "      <td>3.47</td>\n",
       "      <td>2.68</td>\n",
       "      <td>9.0</td>\n",
       "      <td>111.0</td>\n",
       "      <td>5000.0</td>\n",
       "      <td>21</td>\n",
       "      <td>27</td>\n",
       "      <td>13495.0</td>\n",
       "      <td>122.0</td>\n",
       "      <td>3</td>\n",
       "    </tr>\n",
       "    <tr>\n",
       "      <td>1</td>\n",
       "      <td>alfa-romero</td>\n",
       "      <td>gas</td>\n",
       "      <td>std</td>\n",
       "      <td>two</td>\n",
       "      <td>convertible</td>\n",
       "      <td>rwd</td>\n",
       "      <td>front</td>\n",
       "      <td>88.6</td>\n",
       "      <td>168.8</td>\n",
       "      <td>64.1</td>\n",
       "      <td>...</td>\n",
       "      <td>3.47</td>\n",
       "      <td>2.68</td>\n",
       "      <td>9.0</td>\n",
       "      <td>111.0</td>\n",
       "      <td>5000.0</td>\n",
       "      <td>21</td>\n",
       "      <td>27</td>\n",
       "      <td>16500.0</td>\n",
       "      <td>122.0</td>\n",
       "      <td>3</td>\n",
       "    </tr>\n",
       "    <tr>\n",
       "      <td>2</td>\n",
       "      <td>alfa-romero</td>\n",
       "      <td>gas</td>\n",
       "      <td>std</td>\n",
       "      <td>two</td>\n",
       "      <td>hatchback</td>\n",
       "      <td>rwd</td>\n",
       "      <td>front</td>\n",
       "      <td>94.5</td>\n",
       "      <td>171.2</td>\n",
       "      <td>65.5</td>\n",
       "      <td>...</td>\n",
       "      <td>2.68</td>\n",
       "      <td>3.47</td>\n",
       "      <td>9.0</td>\n",
       "      <td>154.0</td>\n",
       "      <td>5000.0</td>\n",
       "      <td>19</td>\n",
       "      <td>26</td>\n",
       "      <td>16500.0</td>\n",
       "      <td>122.0</td>\n",
       "      <td>1</td>\n",
       "    </tr>\n",
       "    <tr>\n",
       "      <td>3</td>\n",
       "      <td>audi</td>\n",
       "      <td>gas</td>\n",
       "      <td>std</td>\n",
       "      <td>four</td>\n",
       "      <td>sedan</td>\n",
       "      <td>fwd</td>\n",
       "      <td>front</td>\n",
       "      <td>99.8</td>\n",
       "      <td>176.6</td>\n",
       "      <td>66.2</td>\n",
       "      <td>...</td>\n",
       "      <td>3.19</td>\n",
       "      <td>3.40</td>\n",
       "      <td>10.0</td>\n",
       "      <td>102.0</td>\n",
       "      <td>5500.0</td>\n",
       "      <td>24</td>\n",
       "      <td>30</td>\n",
       "      <td>13950.0</td>\n",
       "      <td>164.0</td>\n",
       "      <td>2</td>\n",
       "    </tr>\n",
       "    <tr>\n",
       "      <td>4</td>\n",
       "      <td>audi</td>\n",
       "      <td>gas</td>\n",
       "      <td>std</td>\n",
       "      <td>four</td>\n",
       "      <td>sedan</td>\n",
       "      <td>4wd</td>\n",
       "      <td>front</td>\n",
       "      <td>99.4</td>\n",
       "      <td>176.6</td>\n",
       "      <td>66.4</td>\n",
       "      <td>...</td>\n",
       "      <td>3.19</td>\n",
       "      <td>3.40</td>\n",
       "      <td>8.0</td>\n",
       "      <td>115.0</td>\n",
       "      <td>5500.0</td>\n",
       "      <td>18</td>\n",
       "      <td>22</td>\n",
       "      <td>17450.0</td>\n",
       "      <td>164.0</td>\n",
       "      <td>2</td>\n",
       "    </tr>\n",
       "  </tbody>\n",
       "</table>\n",
       "<p>5 rows × 26 columns</p>\n",
       "</div>"
      ],
      "text/plain": [
       "          make fuel-type aspiration num-of-doors   body-style drive-wheel  \\\n",
       "0  alfa-romero       gas        std          two  convertible         rwd   \n",
       "1  alfa-romero       gas        std          two  convertible         rwd   \n",
       "2  alfa-romero       gas        std          two    hatchback         rwd   \n",
       "3         audi       gas        std         four        sedan         fwd   \n",
       "4         audi       gas        std         four        sedan         4wd   \n",
       "\n",
       "  engine-loc  wheel-base  length  width  ...  bore  stroke compression-ratio  \\\n",
       "0      front        88.6   168.8   64.1  ...  3.47    2.68               9.0   \n",
       "1      front        88.6   168.8   64.1  ...  3.47    2.68               9.0   \n",
       "2      front        94.5   171.2   65.5  ...  2.68    3.47               9.0   \n",
       "3      front        99.8   176.6   66.2  ...  3.19    3.40              10.0   \n",
       "4      front        99.4   176.6   66.4  ...  3.19    3.40               8.0   \n",
       "\n",
       "  horsepower  peak-rpm city-mpg  highway-mpg    price  normalized-losses  \\\n",
       "0      111.0    5000.0       21           27  13495.0              122.0   \n",
       "1      111.0    5000.0       21           27  16500.0              122.0   \n",
       "2      154.0    5000.0       19           26  16500.0              122.0   \n",
       "3      102.0    5500.0       24           30  13950.0              164.0   \n",
       "4      115.0    5500.0       18           22  17450.0              164.0   \n",
       "\n",
       "   symboling  \n",
       "0          3  \n",
       "1          3  \n",
       "2          1  \n",
       "3          2  \n",
       "4          2  \n",
       "\n",
       "[5 rows x 26 columns]"
      ]
     },
     "execution_count": 3,
     "metadata": {},
     "output_type": "execute_result"
    }
   ],
   "source": [
    "dfautomobile = dfautomobile.drop(['Unnamed: 0', 'ID'],1)\n",
    "dfautomobile.head()"
   ]
  },
  {
   "cell_type": "code",
   "execution_count": 4,
   "metadata": {},
   "outputs": [
    {
     "name": "stdout",
     "output_type": "stream",
     "text": [
      "<class 'pandas.core.frame.DataFrame'>\n",
      "RangeIndex: 205 entries, 0 to 204\n",
      "Data columns (total 26 columns):\n",
      "make                 205 non-null object\n",
      "fuel-type            205 non-null object\n",
      "aspiration           205 non-null object\n",
      "num-of-doors         205 non-null object\n",
      "body-style           205 non-null object\n",
      "drive-wheel          205 non-null object\n",
      "engine-loc           205 non-null object\n",
      "wheel-base           205 non-null float64\n",
      "length               205 non-null float64\n",
      "width                205 non-null float64\n",
      "height               205 non-null float64\n",
      "curb-weight          205 non-null int64\n",
      "engine-type          205 non-null object\n",
      "cylinder             205 non-null object\n",
      "engine-size          205 non-null int64\n",
      "fuel-system          205 non-null object\n",
      "bore                 205 non-null float64\n",
      "stroke               205 non-null float64\n",
      "compression-ratio    205 non-null float64\n",
      "horsepower           205 non-null float64\n",
      "peak-rpm             205 non-null float64\n",
      "city-mpg             205 non-null int64\n",
      "highway-mpg          205 non-null int64\n",
      "price                205 non-null float64\n",
      "normalized-losses    205 non-null float64\n",
      "symboling            205 non-null int64\n",
      "dtypes: float64(11), int64(5), object(10)\n",
      "memory usage: 41.8+ KB\n"
     ]
    }
   ],
   "source": [
    "dfautomobile.info()"
   ]
  },
  {
   "cell_type": "code",
   "execution_count": 5,
   "metadata": {},
   "outputs": [
    {
     "data": {
      "text/html": [
       "<div>\n",
       "<style scoped>\n",
       "    .dataframe tbody tr th:only-of-type {\n",
       "        vertical-align: middle;\n",
       "    }\n",
       "\n",
       "    .dataframe tbody tr th {\n",
       "        vertical-align: top;\n",
       "    }\n",
       "\n",
       "    .dataframe thead th {\n",
       "        text-align: right;\n",
       "    }\n",
       "</style>\n",
       "<table border=\"1\" class=\"dataframe\">\n",
       "  <thead>\n",
       "    <tr style=\"text-align: right;\">\n",
       "      <th></th>\n",
       "      <th>engine-size</th>\n",
       "      <th>price</th>\n",
       "    </tr>\n",
       "  </thead>\n",
       "  <tbody>\n",
       "    <tr>\n",
       "      <td>0</td>\n",
       "      <td>130</td>\n",
       "      <td>13495.0</td>\n",
       "    </tr>\n",
       "    <tr>\n",
       "      <td>1</td>\n",
       "      <td>130</td>\n",
       "      <td>16500.0</td>\n",
       "    </tr>\n",
       "    <tr>\n",
       "      <td>2</td>\n",
       "      <td>152</td>\n",
       "      <td>16500.0</td>\n",
       "    </tr>\n",
       "    <tr>\n",
       "      <td>3</td>\n",
       "      <td>109</td>\n",
       "      <td>13950.0</td>\n",
       "    </tr>\n",
       "    <tr>\n",
       "      <td>4</td>\n",
       "      <td>136</td>\n",
       "      <td>17450.0</td>\n",
       "    </tr>\n",
       "    <tr>\n",
       "      <td>...</td>\n",
       "      <td>...</td>\n",
       "      <td>...</td>\n",
       "    </tr>\n",
       "    <tr>\n",
       "      <td>200</td>\n",
       "      <td>141</td>\n",
       "      <td>16845.0</td>\n",
       "    </tr>\n",
       "    <tr>\n",
       "      <td>201</td>\n",
       "      <td>141</td>\n",
       "      <td>19045.0</td>\n",
       "    </tr>\n",
       "    <tr>\n",
       "      <td>202</td>\n",
       "      <td>173</td>\n",
       "      <td>21485.0</td>\n",
       "    </tr>\n",
       "    <tr>\n",
       "      <td>203</td>\n",
       "      <td>145</td>\n",
       "      <td>22470.0</td>\n",
       "    </tr>\n",
       "    <tr>\n",
       "      <td>204</td>\n",
       "      <td>141</td>\n",
       "      <td>22625.0</td>\n",
       "    </tr>\n",
       "  </tbody>\n",
       "</table>\n",
       "<p>205 rows × 2 columns</p>\n",
       "</div>"
      ],
      "text/plain": [
       "     engine-size    price\n",
       "0            130  13495.0\n",
       "1            130  16500.0\n",
       "2            152  16500.0\n",
       "3            109  13950.0\n",
       "4            136  17450.0\n",
       "..           ...      ...\n",
       "200          141  16845.0\n",
       "201          141  19045.0\n",
       "202          173  21485.0\n",
       "203          145  22470.0\n",
       "204          141  22625.0\n",
       "\n",
       "[205 rows x 2 columns]"
      ]
     },
     "execution_count": 5,
     "metadata": {},
     "output_type": "execute_result"
    }
   ],
   "source": [
    "df = dfautomobile[['engine-size','price']]\n",
    "df"
   ]
  },
  {
   "cell_type": "markdown",
   "metadata": {},
   "source": [
    "## K-MEANS"
   ]
  },
  {
   "cell_type": "code",
   "execution_count": 6,
   "metadata": {},
   "outputs": [],
   "source": [
    "# Step 3. Konversi Dataset ke Data Array \n",
    "dfKmeans = np.asarray(df)"
   ]
  },
  {
   "cell_type": "code",
   "execution_count": 7,
   "metadata": {},
   "outputs": [
    {
     "data": {
      "text/plain": [
       "Text(0.5,1,'Price Mobile based on Engine Size')"
      ]
     },
     "execution_count": 7,
     "metadata": {},
     "output_type": "execute_result"
    },
    {
     "data": {
      "image/png": "[encoded data removed]",
      "text/plain": [
       "<matplotlib.figure.Figure at 0x1e5056dd240>"
      ]
     },
     "metadata": {},
     "output_type": "display_data"
    }
   ],
   "source": [
    "## Step 4. Menampilkan data ke dalam grafik scatterplot \n",
    "plt.scatter(dfKmeans[:,0],dfKmeans[:,1], label = 'True Position')\n",
    "plt.xlabel(\"Engine Size\")\n",
    "plt.ylabel(\"Price\")\n",
    "plt.title(\"Price Mobile based on Engine Size\")"
   ]
  },
  {
   "cell_type": "markdown",
   "metadata": {},
   "source": [
    "### Scree Plot"
   ]
  },
  {
   "cell_type": "code",
   "execution_count": 8,
   "metadata": {},
   "outputs": [
    {
     "data": {
      "image/png": "[encoded data removed]",
      "text/plain": [
       "<matplotlib.figure.Figure at 0x1e50773f668>"
      ]
     },
     "metadata": {},
     "output_type": "display_data"
    }
   ],
   "source": [
    "Sum_of_squared_distances = []\n",
    "K = range(1,15)\n",
    "for k in K:\n",
    "    km = KMeans(n_clusters=k)\n",
    "    km = km.fit(dfKmeans)\n",
    "    Sum_of_squared_distances.append(km.inertia_) #y axis #inertia = sum  dari squared distrance\n",
    "\n",
    "plt.plot(K, Sum_of_squared_distances, 'bx-')\n",
    "plt.xlabel('k')\n",
    "plt.ylabel('Sum_of_squared_distances')\n",
    "plt.title('Elbow Method For Optimal k')\n",
    "plt.show()"
   ]
  },
  {
   "cell_type": "markdown",
   "metadata": {},
   "source": [
    "elbow selected is **3**"
   ]
  },
  {
   "cell_type": "markdown",
   "metadata": {},
   "source": [
    "### Silhouette"
   ]
  },
  {
   "cell_type": "code",
   "execution_count": 9,
   "metadata": {},
   "outputs": [
    {
     "name": "stdout",
     "output_type": "stream",
     "text": [
      "0.7213831310277494\n",
      "0.6556662071905474\n",
      "0.6003732475905085\n",
      "0.6093531464113795\n"
     ]
    }
   ],
   "source": [
    "range_n_clusters = [2, 3, 4, 5]\n",
    "for n_cluster in range_n_clusters:\n",
    "    kmeans = KMeans(n_clusters = n_cluster, max_iter =1000)\n",
    "    kmeans.fit(dfKmeans)\n",
    "    labels = kmeans.predict(dfKmeans)\n",
    "    from sklearn.metrics import silhouette_score\n",
    "    silhouette_avg = silhouette_score(dfKmeans, labels)\n",
    "    print(silhouette_avg)"
   ]
  },
  {
   "cell_type": "code",
   "execution_count": 10,
   "metadata": {},
   "outputs": [
    {
     "data": {
      "text/plain": [
       "KMeans(algorithm='auto', copy_x=True, init='k-means++', max_iter=300,\n",
       "    n_clusters=2, n_init=10, n_jobs=1, precompute_distances='auto',\n",
       "    random_state=None, tol=0.0001, verbose=0)"
      ]
     },
     "execution_count": 10,
     "metadata": {},
     "output_type": "execute_result"
    }
   ],
   "source": [
    "# Step 5. Melakukan aktivasi algoritma K-Means \n",
    "kmeans = KMeans(n_clusters=2)\n",
    "kmeans.fit(dfKmeans)"
   ]
  },
  {
   "cell_type": "code",
   "execution_count": 11,
   "metadata": {},
   "outputs": [
    {
     "name": "stdout",
     "output_type": "stream",
     "text": [
      "[[  203.84       30585.12      ]\n",
      " [  116.22222222 10793.51954118]]\n"
     ]
    }
   ],
   "source": [
    "# Step 6. Menampilkan nilai centroid yang dibangkitkan oleh algoritma kmeans \n",
    "print(kmeans.cluster_centers_)"
   ]
  },
  {
   "cell_type": "code",
   "execution_count": 12,
   "metadata": {},
   "outputs": [
    {
     "name": "stdout",
     "output_type": "stream",
     "text": [
      "[1 1 1 1 1 1 1 1 0 1 1 1 0 0 0 0 0 0 1 1 1 1 1 1 1 1 1 1 1 1 1 1 1 1 1 1 1\n",
      " 1 1 1 1 1 1 1 1 1 1 0 0 0 1 1 1 1 1 1 1 1 1 1 1 1 1 1 1 1 1 0 0 0 0 0 0 0\n",
      " 0 1 1 1 1 1 1 1 1 1 1 1 1 1 1 1 1 1 1 1 1 1 1 1 1 1 1 1 1 1 1 1 1 1 1 1 1\n",
      " 1 1 1 1 1 1 1 1 1 1 1 1 1 1 0 0 0 0 1 1 1 1 1 1 1 1 1 1 1 1 1 1 1 1 1 1 1\n",
      " 1 1 1 1 1 1 1 1 1 1 1 1 1 1 1 1 1 1 1 1 1 1 1 1 1 1 1 1 1 1 1 1 1 1 1 1 1\n",
      " 1 1 1 1 1 1 1 1 1 1 1 1 1 1 1 1 1 0 0 0]\n"
     ]
    }
   ],
   "source": [
    "print(kmeans.labels_)"
   ]
  },
  {
   "cell_type": "code",
   "execution_count": 13,
   "metadata": {},
   "outputs": [
    {
     "name": "stderr",
     "output_type": "stream",
     "text": [
      "C:\\Users\\nurlai064182\\AppData\\Local\\Continuum\\anaconda3\\lib\\site-packages\\ipykernel_launcher.py:1: SettingWithCopyWarning: \n",
      "A value is trying to be set on a copy of a slice from a DataFrame.\n",
      "Try using .loc[row_indexer,col_indexer] = value instead\n",
      "\n",
      "See the caveats in the documentation: http://pandas.pydata.org/pandas-docs/stable/user_guide/indexing.html#returning-a-view-versus-a-copy\n",
      "  \"\"\"Entry point for launching an IPython kernel.\n"
     ]
    }
   ],
   "source": [
    "df['Cluster KMeans'] = pd.DataFrame(kmeans.labels_)"
   ]
  },
  {
   "cell_type": "code",
   "execution_count": 14,
   "metadata": {},
   "outputs": [
    {
     "data": {
      "text/html": [
       "<div>\n",
       "<style scoped>\n",
       "    .dataframe tbody tr th:only-of-type {\n",
       "        vertical-align: middle;\n",
       "    }\n",
       "\n",
       "    .dataframe tbody tr th {\n",
       "        vertical-align: top;\n",
       "    }\n",
       "\n",
       "    .dataframe thead th {\n",
       "        text-align: right;\n",
       "    }\n",
       "</style>\n",
       "<table border=\"1\" class=\"dataframe\">\n",
       "  <thead>\n",
       "    <tr style=\"text-align: right;\">\n",
       "      <th></th>\n",
       "      <th>engine-size</th>\n",
       "      <th>price</th>\n",
       "      <th>Cluster KMeans</th>\n",
       "    </tr>\n",
       "  </thead>\n",
       "  <tbody>\n",
       "    <tr>\n",
       "      <td>0</td>\n",
       "      <td>130</td>\n",
       "      <td>13495.0</td>\n",
       "      <td>1</td>\n",
       "    </tr>\n",
       "    <tr>\n",
       "      <td>1</td>\n",
       "      <td>130</td>\n",
       "      <td>16500.0</td>\n",
       "      <td>1</td>\n",
       "    </tr>\n",
       "    <tr>\n",
       "      <td>2</td>\n",
       "      <td>152</td>\n",
       "      <td>16500.0</td>\n",
       "      <td>1</td>\n",
       "    </tr>\n",
       "    <tr>\n",
       "      <td>3</td>\n",
       "      <td>109</td>\n",
       "      <td>13950.0</td>\n",
       "      <td>1</td>\n",
       "    </tr>\n",
       "    <tr>\n",
       "      <td>4</td>\n",
       "      <td>136</td>\n",
       "      <td>17450.0</td>\n",
       "      <td>1</td>\n",
       "    </tr>\n",
       "    <tr>\n",
       "      <td>...</td>\n",
       "      <td>...</td>\n",
       "      <td>...</td>\n",
       "      <td>...</td>\n",
       "    </tr>\n",
       "    <tr>\n",
       "      <td>200</td>\n",
       "      <td>141</td>\n",
       "      <td>16845.0</td>\n",
       "      <td>1</td>\n",
       "    </tr>\n",
       "    <tr>\n",
       "      <td>201</td>\n",
       "      <td>141</td>\n",
       "      <td>19045.0</td>\n",
       "      <td>1</td>\n",
       "    </tr>\n",
       "    <tr>\n",
       "      <td>202</td>\n",
       "      <td>173</td>\n",
       "      <td>21485.0</td>\n",
       "      <td>0</td>\n",
       "    </tr>\n",
       "    <tr>\n",
       "      <td>203</td>\n",
       "      <td>145</td>\n",
       "      <td>22470.0</td>\n",
       "      <td>0</td>\n",
       "    </tr>\n",
       "    <tr>\n",
       "      <td>204</td>\n",
       "      <td>141</td>\n",
       "      <td>22625.0</td>\n",
       "      <td>0</td>\n",
       "    </tr>\n",
       "  </tbody>\n",
       "</table>\n",
       "<p>205 rows × 3 columns</p>\n",
       "</div>"
      ],
      "text/plain": [
       "     engine-size    price  Cluster KMeans\n",
       "0            130  13495.0               1\n",
       "1            130  16500.0               1\n",
       "2            152  16500.0               1\n",
       "3            109  13950.0               1\n",
       "4            136  17450.0               1\n",
       "..           ...      ...             ...\n",
       "200          141  16845.0               1\n",
       "201          141  19045.0               1\n",
       "202          173  21485.0               0\n",
       "203          145  22470.0               0\n",
       "204          141  22625.0               0\n",
       "\n",
       "[205 rows x 3 columns]"
      ]
     },
     "execution_count": 14,
     "metadata": {},
     "output_type": "execute_result"
    }
   ],
   "source": [
    "df"
   ]
  },
  {
   "cell_type": "code",
   "execution_count": 15,
   "metadata": {},
   "outputs": [
    {
     "data": {
      "image/png": "[encoded data removed]",
      "text/plain": [
       "<matplotlib.figure.Figure at 0x1e5077f6710>"
      ]
     },
     "metadata": {},
     "output_type": "display_data"
    }
   ],
   "source": [
    "# Step 7 Visualisasi Hasil \n",
    "x = dfKmeans[:,0]\n",
    "x1 = dfKmeans[:,1]\n",
    "group= kmeans.labels_\n",
    "color = ['red','blue','green']\n",
    "fig, ax = plt.subplots()\n",
    "for g in set(kmeans.labels_):\n",
    "    xa = [x[j] for j in range(len(x)) if group[j]==g]\n",
    "    xb = [x1[j] for j in range(len(x1)) if group[j]==g]\n",
    "    ax.scatter(xa,xb, c=color[g], label=g)\n",
    "ax.legend()\n",
    "plt.title(\"Automobile with KMeans Clustering\")\n",
    "plt.show()"
   ]
  },
  {
   "cell_type": "code",
   "execution_count": 16,
   "metadata": {},
   "outputs": [
    {
     "data": {
      "image/png": "[encoded data removed]",
      "text/plain": [
       "<matplotlib.figure.Figure at 0x1e507801048>"
      ]
     },
     "metadata": {},
     "output_type": "display_data"
    }
   ],
   "source": [
    "# Step 8 Menampilkan hasil centroid \n",
    "x = dfKmeans[:,0]\n",
    "x1 = dfKmeans[:,1]\n",
    "group= kmeans.labels_\n",
    "color = ['red','blue','green']\n",
    "fig, ax = plt.subplots()\n",
    "for g in set(kmeans.labels_):\n",
    "    xa = [x[j] for j in range(len(x)) if group[j]==g]\n",
    "    xb = [x1[j] for j in range(len(x1)) if group[j]==g]\n",
    "    ax.scatter(xa,xb, c=color[g], label=g)\n",
    "    ax.scatter(kmeans.cluster_centers_[:,0],kmeans.cluster_centers_[:,1],color='black')\n",
    "ax.legend()\n",
    "plt.title(\"Automobile with Centroid Kmeans Clustering\")\n",
    "plt.show()"
   ]
  },
  {
   "cell_type": "code",
   "execution_count": 17,
   "metadata": {},
   "outputs": [
    {
     "data": {
      "text/plain": [
       "array([[1.41000000e+02, 2.26250000e+04, 0.00000000e+00],\n",
       "       [3.04000000e+02, 4.54000000e+04, 0.00000000e+00],\n",
       "       [3.08000000e+02, 4.09600000e+04, 0.00000000e+00],\n",
       "       [2.34000000e+02, 3.50560000e+04, 0.00000000e+00],\n",
       "       [2.34000000e+02, 3.41840000e+04, 0.00000000e+00],\n",
       "       [1.94000000e+02, 3.70280000e+04, 0.00000000e+00],\n",
       "       [1.94000000e+02, 3.40280000e+04, 0.00000000e+00],\n",
       "       [1.94000000e+02, 3.25280000e+04, 0.00000000e+00],\n",
       "       [1.51000000e+02, 2.20180000e+04, 0.00000000e+00],\n",
       "       [2.58000000e+02, 3.22500000e+04, 0.00000000e+00],\n",
       "       [2.58000000e+02, 3.55500000e+04, 0.00000000e+00],\n",
       "       [3.26000000e+02, 3.60000000e+04, 0.00000000e+00],\n",
       "       [2.09000000e+02, 4.13150000e+04, 0.00000000e+00],\n",
       "       [2.09000000e+02, 3.07600000e+04, 0.00000000e+00],\n",
       "       [2.09000000e+02, 3.68800000e+04, 0.00000000e+00],\n",
       "       [1.64000000e+02, 2.11050000e+04, 0.00000000e+00],\n",
       "       [1.64000000e+02, 2.09700000e+04, 0.00000000e+00],\n",
       "       [1.83000000e+02, 3.16000000e+04, 0.00000000e+00],\n",
       "       [1.83000000e+02, 2.81760000e+04, 0.00000000e+00],\n",
       "       [1.45000000e+02, 2.24700000e+04, 0.00000000e+00],\n",
       "       [1.31000000e+02, 2.38750000e+04, 0.00000000e+00],\n",
       "       [1.83000000e+02, 2.82480000e+04, 0.00000000e+00],\n",
       "       [1.83000000e+02, 2.55520000e+04, 0.00000000e+00],\n",
       "       [1.64000000e+02, 2.45650000e+04, 0.00000000e+00],\n",
       "       [1.73000000e+02, 2.14850000e+04, 0.00000000e+00],\n",
       "       [1.08000000e+02, 7.77500000e+03, 1.00000000e+00],\n",
       "       [1.08000000e+02, 9.96000000e+03, 1.00000000e+00],\n",
       "       [1.08000000e+02, 9.23300000e+03, 1.00000000e+00],\n",
       "       [1.08000000e+02, 1.12590000e+04, 1.00000000e+00],\n",
       "       [1.08000000e+02, 8.01300000e+03, 1.00000000e+00],\n",
       "       [9.20000000e+01, 5.34800000e+03, 1.00000000e+00],\n",
       "       [1.08000000e+02, 1.16940000e+04, 1.00000000e+00],\n",
       "       [1.08000000e+02, 1.01980000e+04, 1.00000000e+00],\n",
       "       [1.08000000e+02, 7.12600000e+03, 1.00000000e+00],\n",
       "       [1.08000000e+02, 7.46300000e+03, 1.00000000e+00],\n",
       "       [1.08000000e+02, 7.60300000e+03, 1.00000000e+00],\n",
       "       [1.21000000e+02, 1.21700000e+04, 1.00000000e+00],\n",
       "       [9.70000000e+01, 5.11800000e+03, 1.00000000e+00],\n",
       "       [1.52000000e+02, 1.70750000e+04, 1.00000000e+00],\n",
       "       [1.20000000e+02, 1.66300000e+04, 1.00000000e+00],\n",
       "       [1.52000000e+02, 1.79500000e+04, 1.00000000e+00],\n",
       "       [1.34000000e+02, 1.81500000e+04, 1.00000000e+00],\n",
       "       [9.00000000e+01, 5.57200000e+03, 1.00000000e+00],\n",
       "       [9.80000000e+01, 7.95700000e+03, 1.00000000e+00],\n",
       "       [9.00000000e+01, 6.22900000e+03, 1.00000000e+00],\n",
       "       [9.00000000e+01, 6.69200000e+03, 1.00000000e+00],\n",
       "       [9.80000000e+01, 7.60900000e+03, 1.00000000e+00],\n",
       "       [1.08000000e+02, 7.05300000e+03, 1.00000000e+00],\n",
       "       [1.22000000e+02, 8.92100000e+03, 1.00000000e+00],\n",
       "       [2.03000000e+02, 1.32071294e+04, 1.00000000e+00],\n",
       "       [1.32000000e+02, 9.29500000e+03, 1.00000000e+00],\n",
       "       [1.32000000e+02, 9.89500000e+03, 1.00000000e+00],\n",
       "       [1.21000000e+02, 1.18500000e+04, 1.00000000e+00],\n",
       "       [9.20000000e+01, 6.33800000e+03, 1.00000000e+00],\n",
       "       [1.21000000e+02, 1.50400000e+04, 1.00000000e+00],\n",
       "       [1.21000000e+02, 1.55100000e+04, 1.00000000e+00],\n",
       "       [1.21000000e+02, 1.81500000e+04, 1.00000000e+00],\n",
       "       [1.21000000e+02, 1.86200000e+04, 1.00000000e+00],\n",
       "       [1.56000000e+02, 1.27640000e+04, 1.00000000e+00],\n",
       "       [9.20000000e+01, 6.48800000e+03, 1.00000000e+00],\n",
       "       [1.10000000e+02, 7.89800000e+03, 1.00000000e+00],\n",
       "       [9.20000000e+01, 7.89800000e+03, 1.00000000e+00],\n",
       "       [1.61000000e+02, 1.57500000e+04, 1.00000000e+00],\n",
       "       [9.70000000e+01, 7.77500000e+03, 1.00000000e+00],\n",
       "       [1.09000000e+02, 7.97500000e+03, 1.00000000e+00],\n",
       "       [9.70000000e+01, 7.99500000e+03, 1.00000000e+00],\n",
       "       [1.09000000e+02, 8.19500000e+03, 1.00000000e+00],\n",
       "       [1.09000000e+02, 8.49500000e+03, 1.00000000e+00],\n",
       "       [9.70000000e+01, 9.49500000e+03, 1.00000000e+00],\n",
       "       [1.09000000e+02, 9.99500000e+03, 1.00000000e+00],\n",
       "       [1.09000000e+02, 1.15950000e+04, 1.00000000e+00],\n",
       "       [1.09000000e+02, 9.98000000e+03, 1.00000000e+00],\n",
       "       [1.36000000e+02, 1.32950000e+04, 1.00000000e+00],\n",
       "       [9.70000000e+01, 1.38450000e+04, 1.00000000e+00],\n",
       "       [1.09000000e+02, 1.22900000e+04, 1.00000000e+00],\n",
       "       [1.41000000e+02, 1.29400000e+04, 1.00000000e+00],\n",
       "       [1.41000000e+02, 1.34150000e+04, 1.00000000e+00],\n",
       "       [1.41000000e+02, 1.59850000e+04, 1.00000000e+00],\n",
       "       [1.41000000e+02, 1.65150000e+04, 1.00000000e+00],\n",
       "       [1.30000000e+02, 1.84200000e+04, 1.00000000e+00],\n",
       "       [1.30000000e+02, 1.89500000e+04, 1.00000000e+00],\n",
       "       [1.41000000e+02, 1.68450000e+04, 1.00000000e+00],\n",
       "       [1.41000000e+02, 1.90450000e+04, 1.00000000e+00],\n",
       "       [1.71000000e+02, 1.56900000e+04, 1.00000000e+00],\n",
       "       [1.71000000e+02, 1.59980000e+04, 1.00000000e+00],\n",
       "       [1.71000000e+02, 1.65580000e+04, 1.00000000e+00],\n",
       "       [1.22000000e+02, 1.12480000e+04, 1.00000000e+00],\n",
       "       [9.20000000e+01, 8.77800000e+03, 1.00000000e+00],\n",
       "       [9.80000000e+01, 6.93800000e+03, 1.00000000e+00],\n",
       "       [9.80000000e+01, 7.19800000e+03, 1.00000000e+00],\n",
       "       [1.20000000e+02, 1.66950000e+04, 1.00000000e+00],\n",
       "       [1.10000000e+02, 7.78800000e+03, 1.00000000e+00],\n",
       "       [9.80000000e+01, 7.73800000e+03, 1.00000000e+00],\n",
       "       [9.80000000e+01, 8.35800000e+03, 1.00000000e+00],\n",
       "       [9.80000000e+01, 9.25800000e+03, 1.00000000e+00],\n",
       "       [9.80000000e+01, 8.05800000e+03, 1.00000000e+00],\n",
       "       [9.80000000e+01, 8.23800000e+03, 1.00000000e+00],\n",
       "       [9.20000000e+01, 6.91800000e+03, 1.00000000e+00],\n",
       "       [9.80000000e+01, 9.29800000e+03, 1.00000000e+00],\n",
       "       [1.46000000e+02, 8.44900000e+03, 1.00000000e+00],\n",
       "       [1.46000000e+02, 9.63900000e+03, 1.00000000e+00],\n",
       "       [1.46000000e+02, 9.98900000e+03, 1.00000000e+00],\n",
       "       [1.46000000e+02, 1.11990000e+04, 1.00000000e+00],\n",
       "       [1.46000000e+02, 1.15490000e+04, 1.00000000e+00],\n",
       "       [1.46000000e+02, 1.76690000e+04, 1.00000000e+00],\n",
       "       [1.22000000e+02, 8.94800000e+03, 1.00000000e+00],\n",
       "       [1.10000000e+02, 1.06980000e+04, 1.00000000e+00],\n",
       "       [1.22000000e+02, 9.98800000e+03, 1.00000000e+00],\n",
       "       [1.22000000e+02, 1.08980000e+04, 1.00000000e+00],\n",
       "       [9.80000000e+01, 9.53800000e+03, 1.00000000e+00],\n",
       "       [1.52000000e+02, 1.69000000e+04, 1.00000000e+00],\n",
       "       [1.30000000e+02, 1.34950000e+04, 1.00000000e+00],\n",
       "       [1.52000000e+02, 1.38600000e+04, 1.00000000e+00],\n",
       "       [7.90000000e+01, 5.39900000e+03, 1.00000000e+00],\n",
       "       [9.20000000e+01, 6.52900000e+03, 1.00000000e+00],\n",
       "       [9.20000000e+01, 7.12900000e+03, 1.00000000e+00],\n",
       "       [9.20000000e+01, 7.29500000e+03, 1.00000000e+00],\n",
       "       [9.20000000e+01, 7.29500000e+03, 1.00000000e+00],\n",
       "       [1.10000000e+02, 7.89500000e+03, 1.00000000e+00],\n",
       "       [1.10000000e+02, 9.09500000e+03, 1.00000000e+00],\n",
       "       [1.10000000e+02, 8.84500000e+03, 1.00000000e+00],\n",
       "       [1.10000000e+02, 1.02950000e+04, 1.00000000e+00],\n",
       "       [1.10000000e+02, 1.29450000e+04, 1.00000000e+00],\n",
       "       [1.10000000e+02, 1.03450000e+04, 1.00000000e+00],\n",
       "       [1.11000000e+02, 6.78500000e+03, 1.00000000e+00],\n",
       "       [9.00000000e+01, 1.32071294e+04, 1.00000000e+00],\n",
       "       [9.00000000e+01, 1.32071294e+04, 1.00000000e+00],\n",
       "       [1.19000000e+02, 1.10480000e+04, 1.00000000e+00],\n",
       "       [9.10000000e+01, 5.19500000e+03, 1.00000000e+00],\n",
       "       [9.10000000e+01, 6.09500000e+03, 1.00000000e+00],\n",
       "       [9.10000000e+01, 6.79500000e+03, 1.00000000e+00],\n",
       "       [9.10000000e+01, 6.69500000e+03, 1.00000000e+00],\n",
       "       [9.20000000e+01, 6.85500000e+03, 1.00000000e+00],\n",
       "       [9.20000000e+01, 6.47900000e+03, 1.00000000e+00],\n",
       "       [1.56000000e+02, 1.29640000e+04, 1.00000000e+00],\n",
       "       [1.22000000e+02, 8.92100000e+03, 1.00000000e+00],\n",
       "       [1.30000000e+02, 1.65000000e+04, 1.00000000e+00],\n",
       "       [1.52000000e+02, 1.65000000e+04, 1.00000000e+00],\n",
       "       [1.09000000e+02, 1.39500000e+04, 1.00000000e+00],\n",
       "       [1.36000000e+02, 1.74500000e+04, 1.00000000e+00],\n",
       "       [1.36000000e+02, 1.52500000e+04, 1.00000000e+00],\n",
       "       [1.36000000e+02, 1.77100000e+04, 1.00000000e+00],\n",
       "       [1.36000000e+02, 1.89200000e+04, 1.00000000e+00],\n",
       "       [1.31000000e+02, 1.32071294e+04, 1.00000000e+00],\n",
       "       [1.08000000e+02, 1.64300000e+04, 1.00000000e+00],\n",
       "       [9.10000000e+01, 7.39500000e+03, 1.00000000e+00],\n",
       "       [1.08000000e+02, 1.69250000e+04, 1.00000000e+00],\n",
       "       [9.00000000e+01, 6.29500000e+03, 1.00000000e+00],\n",
       "       [9.00000000e+01, 6.57500000e+03, 1.00000000e+00],\n",
       "       [9.00000000e+01, 5.57200000e+03, 1.00000000e+00],\n",
       "       [9.00000000e+01, 6.37700000e+03, 1.00000000e+00],\n",
       "       [9.80000000e+01, 7.95700000e+03, 1.00000000e+00],\n",
       "       [9.00000000e+01, 6.22900000e+03, 1.00000000e+00],\n",
       "       [9.00000000e+01, 6.69200000e+03, 1.00000000e+00],\n",
       "       [9.00000000e+01, 7.60900000e+03, 1.00000000e+00],\n",
       "       [9.80000000e+01, 8.55800000e+03, 1.00000000e+00],\n",
       "       [6.10000000e+01, 5.15100000e+03, 1.00000000e+00],\n",
       "       [1.20000000e+02, 1.55800000e+04, 1.00000000e+00],\n",
       "       [7.00000000e+01, 1.09450000e+04, 1.00000000e+00],\n",
       "       [7.00000000e+01, 1.36450000e+04, 1.00000000e+00],\n",
       "       [1.03000000e+02, 7.09900000e+03, 1.00000000e+00],\n",
       "       [9.70000000e+01, 6.64900000e+03, 1.00000000e+00],\n",
       "       [9.70000000e+01, 6.84900000e+03, 1.00000000e+00],\n",
       "       [9.70000000e+01, 7.34900000e+03, 1.00000000e+00],\n",
       "       [9.70000000e+01, 7.29900000e+03, 1.00000000e+00],\n",
       "       [9.70000000e+01, 7.79900000e+03, 1.00000000e+00],\n",
       "       [9.70000000e+01, 7.49900000e+03, 1.00000000e+00],\n",
       "       [9.70000000e+01, 7.99900000e+03, 1.00000000e+00],\n",
       "       [9.70000000e+01, 8.24900000e+03, 1.00000000e+00],\n",
       "       [1.20000000e+02, 8.94900000e+03, 1.00000000e+00],\n",
       "       [1.20000000e+02, 9.54900000e+03, 1.00000000e+00],\n",
       "       [1.81000000e+02, 1.34990000e+04, 1.00000000e+00],\n",
       "       [1.81000000e+02, 1.34990000e+04, 1.00000000e+00],\n",
       "       [1.81000000e+02, 1.71990000e+04, 1.00000000e+00],\n",
       "       [1.81000000e+02, 1.96990000e+04, 1.00000000e+00],\n",
       "       [1.81000000e+02, 1.83990000e+04, 1.00000000e+00],\n",
       "       [1.20000000e+02, 1.19000000e+04, 1.00000000e+00],\n",
       "       [1.52000000e+02, 1.32000000e+04, 1.00000000e+00],\n",
       "       [1.20000000e+02, 1.24400000e+04, 1.00000000e+00],\n",
       "       [9.70000000e+01, 5.49900000e+03, 1.00000000e+00],\n",
       "       [1.10000000e+02, 9.27900000e+03, 1.00000000e+00],\n",
       "       [1.10000000e+02, 9.27900000e+03, 1.00000000e+00],\n",
       "       [1.22000000e+02, 8.18900000e+03, 1.00000000e+00],\n",
       "       [8.00000000e+01, 1.56450000e+04, 1.00000000e+00],\n",
       "       [1.22000000e+02, 8.84500000e+03, 1.00000000e+00],\n",
       "       [1.22000000e+02, 8.49500000e+03, 1.00000000e+00],\n",
       "       [1.22000000e+02, 1.05950000e+04, 1.00000000e+00],\n",
       "       [1.22000000e+02, 1.02450000e+04, 1.00000000e+00],\n",
       "       [1.22000000e+02, 1.07950000e+04, 1.00000000e+00],\n",
       "       [1.22000000e+02, 1.12450000e+04, 1.00000000e+00],\n",
       "       [1.40000000e+02, 1.82800000e+04, 1.00000000e+00],\n",
       "       [1.34000000e+02, 1.83440000e+04, 1.00000000e+00],\n",
       "       [7.00000000e+01, 1.18450000e+04, 1.00000000e+00],\n",
       "       [1.40000000e+02, 1.65030000e+04, 1.00000000e+00],\n",
       "       [9.20000000e+01, 6.18900000e+03, 1.00000000e+00],\n",
       "       [9.20000000e+01, 6.66900000e+03, 1.00000000e+00],\n",
       "       [9.80000000e+01, 7.68900000e+03, 1.00000000e+00],\n",
       "       [1.10000000e+02, 9.95900000e+03, 1.00000000e+00],\n",
       "       [1.22000000e+02, 8.49900000e+03, 1.00000000e+00],\n",
       "       [1.56000000e+02, 1.26290000e+04, 1.00000000e+00],\n",
       "       [1.56000000e+02, 1.48690000e+04, 1.00000000e+00],\n",
       "       [1.56000000e+02, 1.44890000e+04, 1.00000000e+00],\n",
       "       [1.22000000e+02, 6.98900000e+03, 1.00000000e+00],\n",
       "       [9.20000000e+01, 5.38900000e+03, 1.00000000e+00],\n",
       "       [1.81000000e+02, 1.43990000e+04, 1.00000000e+00]])"
      ]
     },
     "execution_count": 17,
     "metadata": {},
     "output_type": "execute_result"
    }
   ],
   "source": [
    "# Memasukkan hasil label ke dalam suatu \n",
    "data_clustered = pd.DataFrame(dfKmeans)\n",
    "data_clustered['cluster'] = pd.DataFrame(kmeans.labels_)\n",
    "data_clustered = data_clustered.sort_values('cluster')\n",
    "data_clustered = np.asarray(data_clustered)\n",
    "data_clustered"
   ]
  },
  {
   "cell_type": "code",
   "execution_count": 18,
   "metadata": {},
   "outputs": [
    {
     "data": {
      "image/png": "[encoded data removed]",
      "text/plain": [
       "<matplotlib.figure.Figure at 0x1e5078810b8>"
      ]
     },
     "metadata": {},
     "output_type": "display_data"
    }
   ],
   "source": [
    "# Membuat similarity Matrix \n",
    "from scipy.spatial.distance import cdist\n",
    "dist = cdist(data_clustered[:,0:2],data_clustered[:,0:2], metric='euclidean')\n",
    "plt.imshow(dist)\n",
    "plt.title(\"Automobile Similarity Matrix\")\n",
    "plt.show()"
   ]
  },
  {
   "cell_type": "markdown",
   "metadata": {},
   "source": [
    "### Kesimpulan\n",
    "Berdasarkan percobaan clustering menggunakan algoritma KMeans membentuk **2 cluster**, sebagai berikut:\n",
    "1. Cluster 1 merupakan cluster harga mobil dibawah 20000, dimana cluster tersebut memiliki karakteristik yang sama yaitu dengan nilai engine-size yang lebih rendah\n",
    "2. Cluster 2 merupakan cluster harga mobil diatas 20000, dimana cluster tersebut memiliki karakteristik yang sama yaitu dengan nilai engine-size yang lebih tinggi<br>\n",
    "**Engine Size** merupakan komponen pada mobil yang mempengaruhi kecepatan, sehingga semakin besar engine size terbukti semakin mahal<br>\n",
    "<br>Namun pada hasil cluster ini cukup jauh rentang harga mobil yang terendah yaitu dari 5000-20000"
   ]
  },
  {
   "cell_type": "markdown",
   "metadata": {},
   "source": [
    "## HIERARCHICAL CLUSTERING"
   ]
  },
  {
   "cell_type": "code",
   "execution_count": 19,
   "metadata": {},
   "outputs": [
    {
     "data": {
      "image/png": "[encoded data removed]",
      "text/plain": [
       "<matplotlib.figure.Figure at 0x1e507765b38>"
      ]
     },
     "metadata": {},
     "output_type": "display_data"
    }
   ],
   "source": [
    "# Step 5. Membentuk dendogram dengan metode ward \n",
    "dendrogram = sch.dendrogram(sch.linkage(dfKmeans, method='ward'))"
   ]
  },
  {
   "cell_type": "code",
   "execution_count": 20,
   "metadata": {},
   "outputs": [
    {
     "data": {
      "text/plain": [
       "array([0, 2, 2, 0, 2, 2, 2, 2, 2, 0, 2, 2, 2, 2, 2, 1, 1, 1, 0, 0, 0, 0,\n",
       "       0, 0, 0, 0, 0, 0, 0, 0, 0, 0, 0, 0, 0, 0, 0, 0, 0, 0, 0, 0, 0, 0,\n",
       "       0, 0, 0, 1, 1, 1, 0, 0, 0, 0, 0, 0, 0, 0, 2, 0, 0, 0, 0, 0, 0, 2,\n",
       "       2, 2, 2, 2, 1, 1, 1, 1, 1, 2, 0, 0, 0, 0, 0, 0, 0, 2, 0, 0, 0, 0,\n",
       "       0, 0, 0, 0, 0, 0, 0, 0, 0, 0, 0, 0, 0, 0, 0, 0, 2, 2, 2, 0, 0, 0,\n",
       "       0, 2, 2, 2, 2, 2, 2, 2, 0, 0, 0, 0, 0, 0, 0, 2, 1, 1, 1, 0, 0, 0,\n",
       "       0, 0, 2, 2, 2, 2, 0, 0, 0, 0, 0, 0, 0, 0, 0, 0, 0, 0, 0, 0, 0, 0,\n",
       "       0, 0, 0, 0, 0, 0, 0, 0, 0, 0, 0, 0, 0, 0, 0, 0, 0, 0, 2, 0, 0, 0,\n",
       "       0, 0, 2, 2, 2, 2, 0, 0, 0, 0, 0, 0, 0, 0, 0, 0, 0, 0, 0, 0, 2, 2,\n",
       "       2, 2, 2, 2, 2, 2, 2], dtype=int64)"
      ]
     },
     "execution_count": 20,
     "metadata": {},
     "output_type": "execute_result"
    }
   ],
   "source": [
    "# Melakukan fitting hierarchical clustering \n",
    "model = AgglomerativeClustering(n_clusters=3, affinity='euclidean', linkage='ward')\n",
    "model.fit(dfKmeans)\n",
    "labels = model.labels_\n",
    "labels"
   ]
  },
  {
   "cell_type": "code",
   "execution_count": 21,
   "metadata": {},
   "outputs": [
    {
     "name": "stderr",
     "output_type": "stream",
     "text": [
      "C:\\Users\\nurlai064182\\AppData\\Local\\Continuum\\anaconda3\\lib\\site-packages\\ipykernel_launcher.py:1: SettingWithCopyWarning: \n",
      "A value is trying to be set on a copy of a slice from a DataFrame.\n",
      "Try using .loc[row_indexer,col_indexer] = value instead\n",
      "\n",
      "See the caveats in the documentation: http://pandas.pydata.org/pandas-docs/stable/user_guide/indexing.html#returning-a-view-versus-a-copy\n",
      "  \"\"\"Entry point for launching an IPython kernel.\n"
     ]
    },
    {
     "data": {
      "text/html": [
       "<div>\n",
       "<style scoped>\n",
       "    .dataframe tbody tr th:only-of-type {\n",
       "        vertical-align: middle;\n",
       "    }\n",
       "\n",
       "    .dataframe tbody tr th {\n",
       "        vertical-align: top;\n",
       "    }\n",
       "\n",
       "    .dataframe thead th {\n",
       "        text-align: right;\n",
       "    }\n",
       "</style>\n",
       "<table border=\"1\" class=\"dataframe\">\n",
       "  <thead>\n",
       "    <tr style=\"text-align: right;\">\n",
       "      <th></th>\n",
       "      <th>engine-size</th>\n",
       "      <th>price</th>\n",
       "      <th>Cluster KMeans</th>\n",
       "      <th>Cluster Hierarchical</th>\n",
       "    </tr>\n",
       "  </thead>\n",
       "  <tbody>\n",
       "    <tr>\n",
       "      <td>0</td>\n",
       "      <td>130</td>\n",
       "      <td>13495.0</td>\n",
       "      <td>1</td>\n",
       "      <td>0</td>\n",
       "    </tr>\n",
       "    <tr>\n",
       "      <td>1</td>\n",
       "      <td>130</td>\n",
       "      <td>16500.0</td>\n",
       "      <td>1</td>\n",
       "      <td>2</td>\n",
       "    </tr>\n",
       "    <tr>\n",
       "      <td>2</td>\n",
       "      <td>152</td>\n",
       "      <td>16500.0</td>\n",
       "      <td>1</td>\n",
       "      <td>2</td>\n",
       "    </tr>\n",
       "    <tr>\n",
       "      <td>3</td>\n",
       "      <td>109</td>\n",
       "      <td>13950.0</td>\n",
       "      <td>1</td>\n",
       "      <td>0</td>\n",
       "    </tr>\n",
       "    <tr>\n",
       "      <td>4</td>\n",
       "      <td>136</td>\n",
       "      <td>17450.0</td>\n",
       "      <td>1</td>\n",
       "      <td>2</td>\n",
       "    </tr>\n",
       "  </tbody>\n",
       "</table>\n",
       "</div>"
      ],
      "text/plain": [
       "   engine-size    price  Cluster KMeans  Cluster Hierarchical\n",
       "0          130  13495.0               1                     0\n",
       "1          130  16500.0               1                     2\n",
       "2          152  16500.0               1                     2\n",
       "3          109  13950.0               1                     0\n",
       "4          136  17450.0               1                     2"
      ]
     },
     "execution_count": 21,
     "metadata": {},
     "output_type": "execute_result"
    }
   ],
   "source": [
    "df['Cluster Hierarchical'] = pd.DataFrame(labels)\n",
    "df.head()"
   ]
  },
  {
   "cell_type": "code",
   "execution_count": 22,
   "metadata": {},
   "outputs": [
    {
     "data": {
      "image/png": "[encoded data removed]",
      "text/plain": [
       "<matplotlib.figure.Figure at 0x1e507af8080>"
      ]
     },
     "metadata": {},
     "output_type": "display_data"
    }
   ],
   "source": [
    "# Mengeplot Data setelah dilakukan hierarchical clustering\n",
    "plt.scatter(dfKmeans[labels==0, 0], dfKmeans[labels==0, 1], s=50, marker='o', color='red')\n",
    "plt.scatter(dfKmeans[labels==1, 0], dfKmeans[labels==1, 1], s=50, marker='o', color='blue')\n",
    "plt.scatter(dfKmeans[labels==2, 0], dfKmeans[labels==2, 1], s=50, marker='o', color='green')\n",
    "plt.title(\"Automobile with Hierarchical Clustering\")\n",
    "plt.show()"
   ]
  },
  {
   "cell_type": "markdown",
   "metadata": {},
   "source": [
    "## Kesimpulan\n",
    "Berdasarkan percobaan clustering menggunakan algoritma KMeans membentuk **3 cluster**, sebagai berikut:\n",
    "1. Cluster 1 merupakan cluster harga mobil dibawah 14000, dimana cluster tersebut memiliki karakteristik yang sama yaitu dengan nilai engine-size yang rendah\n",
    "2. Cluster 2 merupakan cluster harga mobil diantara 14000-28000, dimana cluster tersebut memiliki karakteristik yang sama yaitu dengan nilai engine-size yang relatif sedang <br>\n",
    "3. Cluster 2 merupakan cluster harga mobil diatas 28000-45000, dimana cluster tersebut memiliki karakteristik yang sama yaitu dengan nilai engine-size yang tinggi <br>\n",
    "<br>Pada hasil algortima ini menunjukkan jarak antara cluster **tidak terlalu jauh**."
   ]
  },
  {
   "cell_type": "markdown",
   "metadata": {},
   "source": [
    "## DBSCAN"
   ]
  },
  {
   "cell_type": "code",
   "execution_count": 23,
   "metadata": {},
   "outputs": [
    {
     "data": {
      "text/plain": [
       "DBSCAN(algorithm='auto', eps=1000, leaf_size=30, metric='euclidean',\n",
       "    metric_params=None, min_samples=15, n_jobs=1, p=None)"
      ]
     },
     "execution_count": 23,
     "metadata": {},
     "output_type": "execute_result"
    }
   ],
   "source": [
    "# Step 5. Melakukan aktivasi algoritma DBSCAN\n",
    "dbscan = DBSCAN(eps=1000,min_samples=15)\n",
    "dbscan.fit(dfKmeans)"
   ]
  },
  {
   "cell_type": "code",
   "execution_count": 24,
   "metadata": {},
   "outputs": [
    {
     "name": "stdout",
     "output_type": "stream",
     "text": [
      "[ 0  1  1  0  1  1  1  1 -1  0  1  1 -1 -1 -1 -1 -1 -1  0  0  0  0  0  0\n",
      "  0  0  0  0  0  0  0  0  0  0  0  0  0  0  0  0  0  0  0  0  0  0  0 -1\n",
      " -1 -1  0  0  0  0  0  0  0  0  1  0  0  0  0  0  0  1  1 -1 -1 -1 -1 -1\n",
      " -1 -1 -1  1  0  0  0  0  0  0  0  0  0  0  0  0  0  0  0  0  0  0  0  0\n",
      "  0  0  0  0  0  0  0  0  1 -1  1  0  0  0  0  1  1  1  1  1  1  1  0  0\n",
      "  0  0  0  0  0 -1 -1 -1 -1  0  0  0  0  0  1  1  1  1  0  0  0  0  0  0\n",
      "  0  0  0  0  0  0  0  0  0  0  0  0  0  0  0  0  0  0  0  0  0  0  0  0\n",
      "  0  0  0  0  1  0  0  0  0  0  1  1  1  1  0  0  0  0  0  0  0  0  0  0\n",
      "  0  0  0  0  1  1  1  1  1  1 -1 -1 -1]\n"
     ]
    }
   ],
   "source": [
    "# Step 6. Menampilkan label dibangkitkan oleh algoritma dbscan \n",
    "print(dbscan.labels_)"
   ]
  },
  {
   "cell_type": "code",
   "execution_count": 25,
   "metadata": {},
   "outputs": [
    {
     "data": {
      "image/png": "[encoded data removed]",
      "text/plain": [
       "<matplotlib.figure.Figure at 0x1e5079546d8>"
      ]
     },
     "metadata": {},
     "output_type": "display_data"
    }
   ],
   "source": [
    "# Step 7 Visualisasi Hasil \n",
    "# Step 8 Menampilkan hasil centroid \n",
    "x = dfKmeans[:,0]\n",
    "x1 = dfKmeans[:,1]\n",
    "group= dbscan.labels_\n",
    "color = ['red','blue','green']\n",
    "fig, ax = plt.subplots()\n",
    "for g in set(kmeans.labels_):\n",
    "    xa = [x[j] for j in range(len(x)) if group[j]==g]\n",
    "    xb = [x1[j] for j in range(len(x1)) if group[j]==g]\n",
    "    ax.scatter(xa,xb, c=color[g], label=g)\n",
    "ax.legend()\n",
    "plt.title(\"Automobile with DBSCAN Clustering\")\n",
    "plt.show()"
   ]
  },
  {
   "cell_type": "code",
   "execution_count": 26,
   "metadata": {},
   "outputs": [
    {
     "name": "stderr",
     "output_type": "stream",
     "text": [
      "C:\\Users\\nurlai064182\\AppData\\Local\\Continuum\\anaconda3\\lib\\site-packages\\ipykernel_launcher.py:1: SettingWithCopyWarning: \n",
      "A value is trying to be set on a copy of a slice from a DataFrame.\n",
      "Try using .loc[row_indexer,col_indexer] = value instead\n",
      "\n",
      "See the caveats in the documentation: http://pandas.pydata.org/pandas-docs/stable/user_guide/indexing.html#returning-a-view-versus-a-copy\n",
      "  \"\"\"Entry point for launching an IPython kernel.\n"
     ]
    },
    {
     "data": {
      "text/html": [
       "<div>\n",
       "<style scoped>\n",
       "    .dataframe tbody tr th:only-of-type {\n",
       "        vertical-align: middle;\n",
       "    }\n",
       "\n",
       "    .dataframe tbody tr th {\n",
       "        vertical-align: top;\n",
       "    }\n",
       "\n",
       "    .dataframe thead th {\n",
       "        text-align: right;\n",
       "    }\n",
       "</style>\n",
       "<table border=\"1\" class=\"dataframe\">\n",
       "  <thead>\n",
       "    <tr style=\"text-align: right;\">\n",
       "      <th></th>\n",
       "      <th>engine-size</th>\n",
       "      <th>price</th>\n",
       "      <th>Cluster KMeans</th>\n",
       "      <th>Cluster Hierarchical</th>\n",
       "      <th>Cluster DBSCAN</th>\n",
       "    </tr>\n",
       "  </thead>\n",
       "  <tbody>\n",
       "    <tr>\n",
       "      <td>0</td>\n",
       "      <td>130</td>\n",
       "      <td>13495.0</td>\n",
       "      <td>1</td>\n",
       "      <td>0</td>\n",
       "      <td>0</td>\n",
       "    </tr>\n",
       "    <tr>\n",
       "      <td>1</td>\n",
       "      <td>130</td>\n",
       "      <td>16500.0</td>\n",
       "      <td>1</td>\n",
       "      <td>2</td>\n",
       "      <td>1</td>\n",
       "    </tr>\n",
       "    <tr>\n",
       "      <td>2</td>\n",
       "      <td>152</td>\n",
       "      <td>16500.0</td>\n",
       "      <td>1</td>\n",
       "      <td>2</td>\n",
       "      <td>1</td>\n",
       "    </tr>\n",
       "    <tr>\n",
       "      <td>3</td>\n",
       "      <td>109</td>\n",
       "      <td>13950.0</td>\n",
       "      <td>1</td>\n",
       "      <td>0</td>\n",
       "      <td>0</td>\n",
       "    </tr>\n",
       "    <tr>\n",
       "      <td>4</td>\n",
       "      <td>136</td>\n",
       "      <td>17450.0</td>\n",
       "      <td>1</td>\n",
       "      <td>2</td>\n",
       "      <td>1</td>\n",
       "    </tr>\n",
       "  </tbody>\n",
       "</table>\n",
       "</div>"
      ],
      "text/plain": [
       "   engine-size    price  Cluster KMeans  Cluster Hierarchical  Cluster DBSCAN\n",
       "0          130  13495.0               1                     0               0\n",
       "1          130  16500.0               1                     2               1\n",
       "2          152  16500.0               1                     2               1\n",
       "3          109  13950.0               1                     0               0\n",
       "4          136  17450.0               1                     2               1"
      ]
     },
     "execution_count": 26,
     "metadata": {},
     "output_type": "execute_result"
    }
   ],
   "source": [
    "df['Cluster DBSCAN'] = pd.DataFrame(dbscan.labels_)\n",
    "df.head()"
   ]
  },
  {
   "cell_type": "markdown",
   "metadata": {},
   "source": [
    "## Kesimpulan\n",
    "Berdasarkan percobaan clustering menggunakan algoritma KMeans membentuk **2 cluster**, sebagai berikut:\n",
    "\n",
    "1. Cluster 1 merupakan cluster harga mobil dibawah 15000, dimana cluster tersebut memiliki karakteristik yang sama yaitu dengan nilai engine-size yang rendah\n",
    "2. Cluster 2 merupakan cluster harga mobil diatas 15000, dimana cluster tersebut memiliki karakteristik yang sama yaitu dengan nilai engine-size yang tinggi<br>\n",
    "Pada hasil algortima ini terlihat ada beberapa sebaran data yang sebenarnya bertumpukan dalam beda cluster"
   ]
  },
  {
   "cell_type": "markdown",
   "metadata": {},
   "source": [
    "# CONCLUSION\n",
    "### Pertanyaan\n",
    "1. Berapa cluster yang Anda buat? Anda menggunakan atribut/feature apa saja? <br>\n",
    "2. Manakah algoritma clustering yang Anda ambil? Mengapa? <br>\n",
    "3. Apakah masing-masing cluster memiliki ciri-ciri yang berbeda? Apa saja ciri-ciri masing-masing cluster?"
   ]
  },
  {
   "cell_type": "markdown",
   "metadata": {},
   "source": [
    "### Jawaban\n",
    "1. Saya menggunakan 3 algoritma cluster, yaitu KMeans, Hierarchical, dan DBSCAN <br>\n",
    "   a. Cluster yang dibentuk berdasarkan KMeans = **2**<br> \n",
    "   b. Cluster yang dibentuk berdasarkan Hierarchical = **3**<br> \n",
    "   c. Cluster yang dibentuk berdasarkan DBSCAN = **2**<br> \n",
    "   Feature yang digunakan adalah Engine-Size dan Price<br>\n",
    "2. Algoritma clustering yang saya ambil adalah Hierarchical, dikarenakan jarak antara cluster tidak lebih dekat <br>\n",
    "3. Iya, dengan penjelasan sebagai berikut: <br>\n",
    "   a. KMeans : memiliki ciri-ciri penentuan berdasarkan k centroid, dimana pada kasus ini k sebesar 2 yang diketahui berdasarkan nilai Silhoutte yang paling tinggi.\n",
    "   b. Hierarchical : memiliki ciri-ciri perbedaan bentuk dendrogram berdasarkan pemilihan linkage yaitu **ward** dan method yaitu **ward**\n",
    "   c. DBSCAN :memiliki ciri-ciri berdasarkan penentuan nilai epsilon sebesar **1000** dan minimum points **15**"
   ]
  }
 ],
 "metadata": {
  "kernelspec": {
   "display_name": "Python 3",
   "language": "python",
   "name": "python3"
  },
  "language_info": {
   "codemirror_mode": {
    "name": "ipython",
    "version": 3
   },
   "file_extension": ".py",
   "mimetype": "text/x-python",
   "name": "python",
   "nbconvert_exporter": "python",
   "pygments_lexer": "ipython3",
   "version": "3.6.4"
  }
 },
 "nbformat": 4,
 "nbformat_minor": 2
}
